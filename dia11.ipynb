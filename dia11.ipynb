{
 "cells": [
  {
   "cell_type": "code",
   "execution_count": 19,
   "id": "f8ad126a",
   "metadata": {},
   "outputs": [
    {
     "name": "stdout",
     "output_type": "stream",
     "text": [
      "35000\n"
     ]
    }
   ],
   "source": [
    "precio_total = 15000 + 20000\n",
    "print(precio_total)"
   ]
  },
  {
   "cell_type": "code",
   "execution_count": 20,
   "id": "f342e355",
   "metadata": {},
   "outputs": [
    {
     "name": "stdout",
     "output_type": "stream",
     "text": [
      "35000\n",
      "5066\n"
     ]
    }
   ],
   "source": [
    "precio_total = 15000 + 20000\n",
    "print(precio_total)\n",
    "precio_total = 15000\n",
    "precio_gaseosa = 19000\n",
    "cantidad_gaseosa = 4\n",
    "cantidad_personas = 15\n",
    "precio_final = precio_gaseosa * cantidad_gaseosa\n",
    "promedio_por_persona = precio_final / cantidad_personas\n",
    "promedio_por_persona = precio_final // cantidad_personas\n",
    "print(promedio_por_persona)"
   ]
  },
  {
   "cell_type": "markdown",
   "id": "4ad3d345",
   "metadata": {},
   "source": [
    "# Challenge 1\n",
    "## Suma: asignar dos números en dos variables diferentes cantidad_de_manzanas y cantidad_de_naranjas. Luego sumar ambas variables en cantidad_de_frutas. Imprimir la última variable.\n",
    "\n",
    "Resta: asignar un valor numérico a la variable frutas_vendidas. Luego, asignar la resta entre cantidad_de_frutas y frutas_vendidas a la variable frutas_restantes. Imprimir la última variable."
   ]
  },
  {
   "cell_type": "code",
   "execution_count": 22,
   "id": "7d41b1c6",
   "metadata": {},
   "outputs": [
    {
     "name": "stdout",
     "output_type": "stream",
     "text": [
      "35\n",
      "25\n"
     ]
    }
   ],
   "source": [
    "#suma\n",
    "cantidad_de_naranjas = 15\n",
    "cantidad_de_manzanas = 20\n",
    "cantidad_de_frutas = cantidad_de_naranjas + cantidad_de_manzanas\n",
    "print(cantidad_de_frutas)\n",
    "#resta\n",
    "frutas_vendidas = 10\n",
    "frutas_restantes = cantidad_de_frutas - frutas_vendidas\n",
    "print(frutas_restantes)"
   ]
  },
  {
   "cell_type": "code",
   "execution_count": 41,
   "id": "01d32bb5",
   "metadata": {},
   "outputs": [
    {
     "name": "stdout",
     "output_type": "stream",
     "text": [
      "mathiascoronel\n",
      "mathias coronel\n",
      "Hola, mi nombre es: mathias coronel\n"
     ]
    }
   ],
   "source": [
    "nombre = 'mathias'\n",
    "apellido = 'coronel'\n",
    "nombre_completo = nombre + apellido\n",
    "print(nombre_completo)\n",
    "\n",
    "print(nombre + ' ' + apellido)\n",
    "print(f\"Hola, mi nombre es: {nombre} {apellido}\")"
   ]
  },
  {
   "cell_type": "markdown",
   "id": "38a622c2",
   "metadata": {},
   "source": [
    "# Challenge 2\n",
    "## Asignar el nombre y el apellido de tu compañera/o a las variables nombre y apellido. Luego, imprimir una frase, utilizando las variables. EJEMPLO: \"Hola. Me llamo Claudia Melgarejo. Mucho gusto.\""
   ]
  },
  {
   "cell_type": "code",
   "execution_count": 45,
   "id": "11a163df",
   "metadata": {},
   "outputs": [
    {
     "name": "stdout",
     "output_type": "stream",
     "text": [
      "Hola, Me llamo Miguel Romero. Mucho gusto\n"
     ]
    }
   ],
   "source": [
    "nombre = \"Miguel\"\n",
    "apellido = \"Romero\"\n",
    "print(f\"Hola, Me llamo {nombre} {apellido}. Mucho gusto\")"
   ]
  },
  {
   "cell_type": "markdown",
   "id": "531b339e",
   "metadata": {},
   "source": [
    "# Challenge 🤺 - 10m\n",
    "## Solicitar al usuario ingresar dos números y almacenarlos en dos variables. Luego, imprimir la suma de los dos números."
   ]
  },
  {
   "cell_type": "code",
   "execution_count": null,
   "id": "be6a040c",
   "metadata": {},
   "outputs": [
    {
     "name": "stdout",
     "output_type": "stream",
     "text": [
      "La suma de ambos numeros es 30\n"
     ]
    }
   ],
   "source": [
    "numero1 = int(input(\"Ingrese un numero\"))\n",
    "numero2 = int(input(\"Ingrese otro numero\"))\n",
    "suma= numero1 + numero2\n",
    "print(f\"La suma de ambos numeros es {suma}\")"
   ]
  },
  {
   "cell_type": "markdown",
   "id": "a556b91e",
   "metadata": {},
   "source": [
    "# Funciones\n",
    "# def ....():\n",
    "\n",
    "# Challenge 🤺 - 10m\n",
    "## Crear una función de un proceso que se les ocurra que tenga varios pasos.\n",
    "## Ejecutar la función 3 veces."
   ]
  },
  {
   "cell_type": "code",
   "execution_count": 79,
   "id": "be20fa96",
   "metadata": {},
   "outputs": [
    {
     "name": "stdout",
     "output_type": "stream",
     "text": [
      "ve hasta el bebedero\n",
      "abre tu botella de agua\n",
      "carga tu botella de agua\n",
      "cierra tu botella\n",
      "vuelve a tu lugar\n"
     ]
    }
   ],
   "source": [
    "def tomar_agua():\n",
    "    print('ve hasta el bebedero')\n",
    "    print('abre tu botella de agua')\n",
    "    print('carga tu botella de agua')\n",
    "    print('cierra tu botella')\n",
    "    print('vuelve a tu lugar')\n",
    "\n",
    "tomar_agua() #esto colocar dos veces mas y repite tres veces"
   ]
  },
  {
   "cell_type": "markdown",
   "id": "94dac135",
   "metadata": {},
   "source": [
    "# Parámetros y argumentos"
   ]
  },
  {
   "cell_type": "code",
   "execution_count": 88,
   "id": "a7d8a55f",
   "metadata": {},
   "outputs": [
    {
     "name": "stdout",
     "output_type": "stream",
     "text": [
      "Abrir el pan\n",
      "agregar huevo\n",
      "Cerrar el pan\n",
      "Listo\n",
      "Abrir el pan\n",
      "agregar tomate y lechuga\n",
      "Cerrar el pan\n",
      "Listo\n"
     ]
    }
   ],
   "source": [
    "def preparar_sandwich(ingrediente):\n",
    "    print('Abrir el pan')\n",
    "    print(f'agregar {ingrediente}')\n",
    "    print('Cerrar el pan')\n",
    "    print('Listo')\n",
    "\n",
    "preparar_sandwich('huevo')\n",
    "preparar_sandwich('tomate y lechuga')"
   ]
  },
  {
   "cell_type": "code",
   "execution_count": null,
   "id": "84bbfbe5",
   "metadata": {},
   "outputs": [
    {
     "name": "stdout",
     "output_type": "stream",
     "text": [
      "El color del case = rojo es\n",
      "La marca del celular = apple es\n",
      "La heladera = cuenta cuenta con la posibilidad de reproducir spotify\n"
     ]
    }
   ],
   "source": [
    "def caracteristicas_elementos(case, celular, heladera):\n",
    "    print(f'El color del {case} es')\n",
    "    print(f'La marca del {celular} es')\n",
    "    print(f'La {heladera} cuenta con la posibilidad de reproducir spotify')\n",
    "    \n",
    "caracteristicas_elementos(\"case = rojo\", \"celular = apple\", \"heladera = cuenta\")"
   ]
  },
  {
   "cell_type": "code",
   "execution_count": 114,
   "id": "4d332944",
   "metadata": {},
   "outputs": [
    {
     "name": "stdout",
     "output_type": "stream",
     "text": [
      "Estoy cocinando carne\n"
     ]
    }
   ],
   "source": [
    "def preparar_comida():\n",
    "    ingrediente = 'carne'\n",
    "    print(f\"Estoy cocinando {ingrediente}\")\n",
    "\n",
    "preparar_comida()"
   ]
  },
  {
   "cell_type": "code",
   "execution_count": null,
   "id": "87d13b4c",
   "metadata": {},
   "outputs": [],
   "source": []
  }
 ],
 "metadata": {
  "kernelspec": {
   "display_name": "Python 3",
   "language": "python",
   "name": "python3"
  },
  "language_info": {
   "codemirror_mode": {
    "name": "ipython",
    "version": 3
   },
   "file_extension": ".py",
   "mimetype": "text/x-python",
   "name": "python",
   "nbconvert_exporter": "python",
   "pygments_lexer": "ipython3",
   "version": "3.13.3"
  }
 },
 "nbformat": 4,
 "nbformat_minor": 5
}
