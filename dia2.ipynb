{
 "cells": [
  {
   "cell_type": "code",
   "execution_count": 135,
   "id": "bf3a8e32",
   "metadata": {},
   "outputs": [],
   "source": [
    "def saludo_bienvenida(nombre):\n",
    "    print(f\"Buen Dia {nombre}\")\n"
   ]
  },
  {
   "cell_type": "code",
   "execution_count": 136,
   "id": "4db0826b",
   "metadata": {},
   "outputs": [
    {
     "name": "stdout",
     "output_type": "stream",
     "text": [
      "Buen Dia mathias\n"
     ]
    }
   ],
   "source": [
    "nombre = input('Ingrese su nombre')\n",
    "saludo_bienvenida(nombre)\n"
   ]
  },
  {
   "cell_type": "markdown",
   "id": "ab02eaef",
   "metadata": {},
   "source": [
    "# Condicionales\n",
    "## Operadores de comparacion\n",
    "- mayor >\n",
    "- menor <\n",
    "- mayor o igual >=\n",
    "- menor o igual <=\n",
    "- es igual ==\n",
    "- diferente !=\n",
    "\n",
    "## Palabras cables\n",
    "- if (si)\n",
    "- elif (sino si)\n",
    "- else (sino)"
   ]
  },
  {
   "cell_type": "code",
   "execution_count": 137,
   "id": "ea3a1620",
   "metadata": {},
   "outputs": [
    {
     "name": "stdout",
     "output_type": "stream",
     "text": [
      "puedes ingresar\n"
     ]
    }
   ],
   "source": [
    "edad = 18\n",
    "\n",
    "if edad < 18:\n",
    "    print(\"Es menor, no puedes ingresar\")\n",
    "else:\n",
    "    print(\"puedes ingresar\")"
   ]
  },
  {
   "cell_type": "code",
   "execution_count": 138,
   "id": "1403453b",
   "metadata": {},
   "outputs": [
    {
     "name": "stdout",
     "output_type": "stream",
     "text": [
      "estudiante\n"
     ]
    }
   ],
   "source": [
    "edad_laboral = 13\n",
    "\n",
    "if edad_laboral < 18:\n",
    "    print('estudiante')\n",
    "elif edad_laboral > 65:\n",
    "    print('jubilado')\n",
    "else: \n",
    "    print('Trabajador')"
   ]
  },
  {
   "cell_type": "markdown",
   "id": "c3a73be4",
   "metadata": {},
   "source": [
    "# Challenge🤺 - 20m\n",
    "## Escribe un programa que pregunte al usuario por su edad y determine si tiene edad suficiente para comprar y consumir alcohol. Si el usuario tiene mas de 18 pero menos de 21 impirmir \"Podes tomar pero no comprar\" Si el usuario tiene menos de 18 imprimir \"Juguito nomas\" Si el usuario tiene mas de 21 imprimir \"Hace lo que quieras\""
   ]
  },
  {
   "cell_type": "code",
   "execution_count": 139,
   "id": "f6622e1a",
   "metadata": {},
   "outputs": [
    {
     "name": "stdout",
     "output_type": "stream",
     "text": [
      "Juguito nomas\n"
     ]
    }
   ],
   "source": [
    "edad_usuario = int(input(\"Ingresa tu edad kp\"))\n",
    "if edad_usuario < 18:\n",
    "    print(\"Juguito nomas\")\n",
    "elif edad_usuario >= 21 :\n",
    "    print(\"Hace lo que quieras\")\n",
    "else:\n",
    "    print(\"Podes tomar pero no comprar\")"
   ]
  },
  {
   "cell_type": "markdown",
   "id": "2a1cf29f",
   "metadata": {},
   "source": [
    "# Operadores Logicos \n",
    "- and(y): se cumplen si ambas condiciones son verdaderas.\n",
    "- or(o) se cumple si al menos una de las condiciones es verdadera\n",
    "- not(no) niega la condición: si es verdadera, la convierte en falsa y al revés"
   ]
  },
  {
   "cell_type": "code",
   "execution_count": 140,
   "id": "ec6a20a2",
   "metadata": {},
   "outputs": [
    {
     "name": "stdout",
     "output_type": "stream",
     "text": [
      "Activa laboralmente\n"
     ]
    }
   ],
   "source": [
    "edad_persona = 45\n",
    "trabaja = True\n",
    "\n",
    "if edad_persona < 18:\n",
    "    print(\"estudiante\")\n",
    "elif edad_persona < 65 and trabaja == True:\n",
    "    print(\"Activa laboralmente\")\n",
    "elif edad_persona < 65 and trabaja == False:\n",
    "    print('desempleado')\n",
    "else:\n",
    "    print(\"jubilado\")"
   ]
  },
  {
   "cell_type": "code",
   "execution_count": 141,
   "id": "86870d95",
   "metadata": {},
   "outputs": [
    {
     "name": "stdout",
     "output_type": "stream",
     "text": [
      "desempleado\n"
     ]
    }
   ],
   "source": [
    "def chequear_edad(edad_laboral, trabaja):\n",
    "    if edad_laboral < 18:\n",
    "        print(\"estudiante\")\n",
    "    elif edad_laboral < 65 and trabaja == True:\n",
    "        print(\"Activa laboralmente\")\n",
    "    elif edad_laboral < 65 and trabaja == False:\n",
    "        print(\"desempleado\")\n",
    "    else:\n",
    "        print(\"jubilado\")\n",
    "\n",
    "chequear_edad(30, False)"
   ]
  },
  {
   "cell_type": "markdown",
   "id": "529b56d7",
   "metadata": {},
   "source": [
    "## Challenge 2\n",
    "Escribir un programa en el que se pregunte al usuario por una temperatura (en grados Celsius), imprima la temperatura escrita, y luego clasificar la temperatura ingresada en los siguientes niveles:\n",
    "\n",
    "Entre -10 y 18 grados, que imprima \"Fresquete\".\n",
    "Entre 19 y 30 grados, que imprima \"Calor'i\".\n",
    "Entre 31 y 45 grados, que imprima \"Hakuuuuuu\".\n",
    "Para todo lo demás, imprimir \"Ñamano mba'e!"
   ]
  },
  {
   "cell_type": "code",
   "execution_count": 142,
   "id": "0f99cea1",
   "metadata": {},
   "outputs": [
    {
     "name": "stdout",
     "output_type": "stream",
     "text": [
      "65\n",
      "Ñamano mbae\n"
     ]
    }
   ],
   "source": [
    "temperatura_celsius = int(input(\"Que temperatura en celsius es? \"))\n",
    "print(temperatura_celsius)\n",
    "if temperatura_celsius>=10 and temperatura_celsius <= 18:\n",
    "    print(\"freskete\")\n",
    "elif temperatura_celsius>=19 and temperatura_celsius <= 30:\n",
    "    print(\"calore\")\n",
    "elif temperatura_celsius>31 and temperatura_celsius <= 45:\n",
    "    print(\"hakuuu\")\n",
    "else:\n",
    "    print(\"Ñamano mbae\")"
   ]
  },
  {
   "cell_type": "markdown",
   "id": "e6fb4671",
   "metadata": {},
   "source": [
    "# BUCLES\n",
    "- WHILE nos permite ejecutar una serie de instrucciones mientras una condicion se cumple. Al momento que la condicion deje de ser cierta el bucle va a parar.\n",
    "- "
   ]
  },
  {
   "cell_type": "code",
   "execution_count": 2,
   "id": "ecd08468",
   "metadata": {},
   "outputs": [
    {
     "name": "stdout",
     "output_type": "stream",
     "text": [
      "10\n",
      "numero correcto\n"
     ]
    }
   ],
   "source": [
    "numero_a_adivinar = 10\n",
    "numero = 3\n",
    "\n",
    "while numero != numero_a_adivinar:\n",
    "    numero = int(input(\"acierta el numero\"))\n",
    "    print(numero)\n",
    "\n",
    "print(\"numero correcto\")"
   ]
  },
  {
   "cell_type": "code",
   "execution_count": 5,
   "id": "188560ce",
   "metadata": {},
   "outputs": [
    {
     "name": "stdout",
     "output_type": "stream",
     "text": [
      "numero incorrecto\n",
      "El numero es correcto\n"
     ]
    }
   ],
   "source": [
    "numero = 10\n",
    "while True:\n",
    "    numero_ingresado = int(input(\"Introducir un número\"))\n",
    "    if numero_ingresado == numero:\n",
    "        print(\"El numero es correcto\")\n",
    "        break\n",
    "    else: \n",
    "        print('numero incorrecto')"
   ]
  },
  {
   "cell_type": "markdown",
   "id": "fa4035fc",
   "metadata": {},
   "source": [
    "# Challenge 🤺 - 20m\n",
    "## Escribir un programa que almacene una contraseña en una variable, y pregunte al usuario por la contraseña hasta que introduzca la contraseña correcta. Cuando el usuario ingrese la contrasena correcta, imprimir un mensaje secreto."
   ]
  },
  {
   "cell_type": "code",
   "execution_count": null,
   "id": "e03124b8",
   "metadata": {},
   "outputs": [
    {
     "name": "stdout",
     "output_type": "stream",
     "text": [
      "Contraseña incorrecta, intente nuevamente\n",
      "Ya ingresaste\n"
     ]
    }
   ],
   "source": [
    "contraseña = \"holaquetal\"\n",
    "while True: \n",
    "    contraseña_ingresada = input(\"Introduce tu contraseña\")\n",
    "    if contraseña == contraseña_ingresada:\n",
    "        print(\"Ya ingresaste\")\n",
    "        break\n",
    "    else: \n",
    "        print(\"Contraseña incorrecta, intente nuevamente\")"
   ]
  },
  {
   "cell_type": "markdown",
   "id": "06a5ea43",
   "metadata": {},
   "source": [
    "## Listas\n",
    "# Una lista es una agrupacion de objetos. las construimos colocando los elementos en corchetes [] y separado por comas"
   ]
  },
  {
   "cell_type": "code",
   "execution_count": 17,
   "id": "0a056edf",
   "metadata": {},
   "outputs": [
    {
     "name": "stdout",
     "output_type": "stream",
     "text": [
      "banana\n",
      "['pera', 'manzana', 'frutilla', 'banana', 'kiwi']\n",
      "['pera', 'durazno', 'frutilla', 'banana', 'kiwi']\n",
      "['durazno', 'frutilla', 'banana', 'kiwi']\n",
      "['durazno', 'banana', 'kiwi']\n",
      "3\n"
     ]
    }
   ],
   "source": [
    "lista_frutas = [\"pera\", \"manzana\", \"frutilla\", \"banana\"]\n",
    "\n",
    "#diferentes tipos de datos\n",
    "lista_bool = [True, False, True, False]\n",
    "lista_numeros = [1, 2, 3, 4]\n",
    "\n",
    "print(lista_frutas[3])\n",
    "#Añadir\n",
    "lista_frutas.append(\"kiwi\")\n",
    "print(lista_frutas)\n",
    "\n",
    "#modificar\n",
    "lista_frutas[1] = 'durazno'\n",
    "print(lista_frutas)\n",
    "\n",
    "#eliminar un elemento especifico\n",
    "lista_frutas.remove(\"pera\")\n",
    "print(lista_frutas)\n",
    "\n",
    "#Eliminar un elemento por indice\n",
    "lista_frutas.pop(1)\n",
    "print(lista_frutas)\n",
    "\n",
    "#contar elementos de la lista\n",
    "print(len(lista_frutas))"
   ]
  },
  {
   "cell_type": "markdown",
   "id": "7316f858",
   "metadata": {},
   "source": [
    "# Challenge\n",
    "## "
   ]
  },
  {
   "cell_type": "code",
   "execution_count": 24,
   "id": "c31f5a01",
   "metadata": {},
   "outputs": [
    {
     "name": "stdout",
     "output_type": "stream",
     "text": [
      "['lapiz', 'borrador', 'cuaderno', 'boligrafo', 'libros']\n",
      "['lapiz', 'borrador', 'cuaderno', 'boligrafo', 'libros', 'portamina']\n",
      "['lapiz', 'superborrador', 'cuaderno', 'boligrafo', 'libros', 'portamina']\n",
      "['lapiz', 'superborrador', 'boligrafo', 'libros', 'portamina']\n"
     ]
    }
   ],
   "source": [
    "lista_de_utiles = [\"lapiz\", \"borrador\", \"cuaderno\", \"boligrafo\", \"libros\"]\n",
    "print(lista_de_utiles)\n",
    "\n",
    "lista_de_utiles.append(\"portamina\")\n",
    "print(lista_de_utiles)\n",
    "\n",
    "lista_de_utiles[1] = \"superborrador\"\n",
    "print(lista_de_utiles)\n",
    "\n",
    "lista_de_utiles.remove(\"cuaderno\")\n",
    "print(lista_de_utiles)"
   ]
  },
  {
   "cell_type": "markdown",
   "id": "5c785c57",
   "metadata": {},
   "source": [
    "# Cuando queremos repetir una cierta cantidad de veces, podoemos utilizar un bucle iterativo. \n",
    "\n",
    "# Iteraciones: una acción repetida una cierta cantidad de veces, pero en cada repeticion tiene en cuenta el valor anterior"
   ]
  },
  {
   "cell_type": "code",
   "execution_count": 28,
   "id": "b87174d4",
   "metadata": {},
   "outputs": [
    {
     "name": "stdout",
     "output_type": "stream",
     "text": [
      "dia: 1\n",
      "dia: 2\n",
      "dia: 3\n",
      "dia: 4\n",
      "dia: 5\n",
      "dia: 6\n",
      "dia: 7\n"
     ]
    }
   ],
   "source": [
    "dias_de_la_semana = [1, 2, 3, 4, 5, 6, 7]\n",
    "\n",
    "for dia in dias_de_la_semana:\n",
    "    print(f'dia: {dia}')"
   ]
  },
  {
   "cell_type": "code",
   "execution_count": 26,
   "id": "0ea1f975",
   "metadata": {},
   "outputs": [
    {
     "name": "stdout",
     "output_type": "stream",
     "text": [
      "hola buen dia\n",
      "hola buen dia\n",
      "hola buen dia\n",
      "hola buen dia\n",
      "hola buen dia\n"
     ]
    }
   ],
   "source": [
    "for i in range(5):\n",
    "    print(\"hola buen dia\")"
   ]
  },
  {
   "cell_type": "code",
   "execution_count": 30,
   "id": "3ff20609",
   "metadata": {},
   "outputs": [
    {
     "name": "stdout",
     "output_type": "stream",
     "text": [
      "pan\n",
      "queso\n",
      "jamon\n",
      "aceitunas\n"
     ]
    }
   ],
   "source": [
    "lista_compras = [\"pan\", \"queso\", \"jamon\", \"aceitunas\",]\n",
    "for articulo in lista_compras:\n",
    "    print(articulo)"
   ]
  },
  {
   "cell_type": "markdown",
   "id": "842e1708",
   "metadata": {},
   "source": [
    "# Challenge \n",
    "## Escribir un programa que itere en un rango de 10 veces. Por cada iteracion multiplicar el iterador por dos e imprimir el resultado."
   ]
  },
  {
   "cell_type": "markdown",
   "id": "317211f1",
   "metadata": {},
   "source": [
    "# Challenge \n",
    "## Escribir un programa que itere en un rango de 10 veces. Por cada iteracion multiplicar el iterador por dos e imprimir el resultado."
   ]
  },
  {
   "cell_type": "code",
   "execution_count": 61,
   "id": "8f108173",
   "metadata": {},
   "outputs": [
    {
     "name": "stdout",
     "output_type": "stream",
     "text": [
      "0 x 3 = 0\n",
      "1 x 3 = 3\n",
      "2 x 3 = 6\n",
      "3 x 3 = 9\n",
      "4 x 3 = 12\n",
      "5 x 3 = 15\n",
      "6 x 3 = 18\n",
      "7 x 3 = 21\n",
      "8 x 3 = 24\n",
      "9 x 3 = 27\n",
      "10 x 3 = 30\n"
     ]
    }
   ],
   "source": [
    "for numero in range (11):\n",
    "    resultado = numero * 3 \n",
    "    print(f'{numero} x 3 = {resultado}')"
   ]
  },
  {
   "cell_type": "markdown",
   "id": "178e70b1",
   "metadata": {},
   "source": [
    "# Challenge 🤺 - 20m\n",
    "## Recorrer los elementos de una lista de marcas e imprimir cada marca solamente si tiene 6 letras o mas"
   ]
  },
  {
   "cell_type": "code",
   "execution_count": 86,
   "id": "350cfc97",
   "metadata": {},
   "outputs": [
    {
     "name": "stdout",
     "output_type": "stream",
     "text": [
      "google\n"
     ]
    }
   ],
   "source": [
    "lista_de_marcas = [\"Nike\", \"Puma\", \"Ferrari\", \"Samsung\", \"google\"]\n",
    "#Recorrer la lista de marcas\n",
    "for i in lista_de_marcas:\n",
    "    #crear una condicion si la palabra tiene mas de 6 caracteres\n",
    "    caracteres = len(i)\n",
    "    if caracteres == 6:\n",
    "        #imprime solamente la palabra con 6 caracteres\n",
    "        print(i)"
   ]
  },
  {
   "cell_type": "markdown",
   "id": "6f30aa8c",
   "metadata": {},
   "source": [
    "# Challenge \n",
    "## Solicitar al usuario que ingrese una frase. Imprimir un mensaje cada vez que se encuentre la O\n",
    "# len cuenta los elementos de forma numerica"
   ]
  },
  {
   "cell_type": "code",
   "execution_count": null,
   "id": "c340b630",
   "metadata": {},
   "outputs": [
    {
     "name": "stdout",
     "output_type": "stream",
     "text": [
      "la palabra es = o\n"
     ]
    }
   ],
   "source": [
    "frase_del_usuario = input(\"Por favor, ingrese una frase:\")\n",
    "for i in frase_del_usuario:\n",
    "    if i == \"o\":\n",
    "        print(f'la palabra es = {i}')  "
   ]
  }
 ],
 "metadata": {
  "kernelspec": {
   "display_name": "Python 3",
   "language": "python",
   "name": "python3"
  },
  "language_info": {
   "codemirror_mode": {
    "name": "ipython",
    "version": 3
   },
   "file_extension": ".py",
   "mimetype": "text/x-python",
   "name": "python",
   "nbconvert_exporter": "python",
   "pygments_lexer": "ipython3",
   "version": "3.13.3"
  }
 },
 "nbformat": 4,
 "nbformat_minor": 5
}
